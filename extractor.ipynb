{
 "cells": [
  {
   "cell_type": "code",
   "execution_count": 12,
   "metadata": {},
   "outputs": [],
   "source": [
    "import fitz\n",
    "import spacy\n",
    "from datetime import datetime"
   ]
  },
  {
   "cell_type": "code",
   "execution_count": 13,
   "metadata": {},
   "outputs": [],
   "source": [
    "# Load NLP model\n",
    "nlp = spacy.load('en_core_web_sm')"
   ]
  },
  {
   "cell_type": "code",
   "execution_count": 14,
   "metadata": {},
   "outputs": [],
   "source": [
    "def extract_text_from_pdf(file_path):\n",
    "    doc = fitz.open(file_path)\n",
    "    text = \"\"\n",
    "    for page_num in range(len(doc)):\n",
    "        page = doc.load_page(page_num)\n",
    "        text += page.get_text()\n",
    "    return text"
   ]
  },
  {
   "cell_type": "code",
   "execution_count": 23,
   "metadata": {},
   "outputs": [],
   "source": [
    "def extract_date(text):\n",
    "    # Regex patterns to find dates\n",
    "    date_pattern_english = r\"On this date ([\\w\\s,]+), we the undersigned below:\"\n",
    "    date_pattern_indonesian = r\"Pada hari ini tanggal ([\\w\\s,]+), pihak-pihak yang bertanda tangan di bawah ini:\"\n",
    "\n",
    "    # Search for dates in the first and last page\n",
    "    match_english = re.search(date_pattern_english, text)\n",
    "    match_indonesian = re.search(date_pattern_indonesian, text)\n",
    "\n",
    "    date = None\n",
    "    if match_english:\n",
    "        date = match_english.group(1)\n",
    "    elif match_indonesian:\n",
    "        date = match_indonesian.group(1)\n",
    "    \n",
    "    return date"
   ]
  },
  {
   "cell_type": "code",
   "execution_count": 16,
   "metadata": {},
   "outputs": [],
   "source": [
    "def extract_letter_number(text):\n",
    "    # Regex patterns to find the letter number\n",
    "    letter_number_pattern_english = r\"Number:\\s*([\\w\\-\\/]+)\"\n",
    "    letter_number_pattern_indonesian = r\"Nomor:\\s*([\\w\\-\\/]+)\"\n",
    "\n",
    "    # Search for letter number in the text\n",
    "    match_english = re.search(letter_number_pattern_english, text)\n",
    "    match_indonesian = re.search(letter_number_pattern_indonesian, text)\n",
    "\n",
    "    letter_number = None\n",
    "    if match_english:\n",
    "        letter_number = match_english.group(1)\n",
    "    elif match_indonesian:\n",
    "        letter_number = match_indonesian.group(1)\n",
    "    \n",
    "    return letter_number"
   ]
  },
  {
   "cell_type": "code",
   "execution_count": 17,
   "metadata": {},
   "outputs": [],
   "source": [
    "def extract_person_in_charge(text):\n",
    "    return first_party, second_party"
   ]
  },
  {
   "cell_type": "code",
   "execution_count": 18,
   "metadata": {},
   "outputs": [],
   "source": [
    "def extract_stakeholder_data(text):\n",
    "    return stakeholder_data"
   ]
  },
  {
   "cell_type": "code",
   "execution_count": 19,
   "metadata": {},
   "outputs": [],
   "source": [
    "def extract_supply_demand(text):\n",
    "    return supply, demand"
   ]
  },
  {
   "cell_type": "code",
   "execution_count": 20,
   "metadata": {},
   "outputs": [],
   "source": [
    "def extract_duration(text):\n",
    "    return duration"
   ]
  },
  {
   "cell_type": "code",
   "execution_count": 21,
   "metadata": {},
   "outputs": [],
   "source": [
    "def calculate_roi(supply, demand):\n",
    "    return roi"
   ]
  },
  {
   "cell_type": "code",
   "execution_count": 22,
   "metadata": {},
   "outputs": [],
   "source": [
    "def process_document(file_path):\n",
    "    text = extract_text_from_pdf(file_path)\n",
    "    \n",
    "    date_of_agreement = extract_date(text)\n",
    "    letter_number = extract_letter_number(text)\n",
    "    first_party, second_party = extract_person_in_charge(text)\n",
    "    stakeholder_data = extract_stakeholder_data(text)\n",
    "    supply, demand = extract_supply_demand(text)\n",
    "    duration = extract_duration(text)\n",
    "    roi = calculate_roi(supply, demand)\n",
    "    \n",
    "    return {\n",
    "        \"Date of Agreement\": date_of_agreement,\n",
    "        \"Letter Number\": letter_number,\n",
    "        \"First Party Person in Charge\": first_party,\n",
    "        \"Second Party Person in Charge\": second_party,\n",
    "        \"Stakeholder Data\": stakeholder_data,\n",
    "        \"Supply\": supply,\n",
    "        \"Demand\": demand,\n",
    "        \"Duration\": duration,\n",
    "        \"ROI\": roi\n",
    "    }"
   ]
  }
 ],
 "metadata": {
  "kernelspec": {
   "display_name": "Python 3",
   "language": "python",
   "name": "python3"
  },
  "language_info": {
   "codemirror_mode": {
    "name": "ipython",
    "version": 3
   },
   "file_extension": ".py",
   "mimetype": "text/x-python",
   "name": "python",
   "nbconvert_exporter": "python",
   "pygments_lexer": "ipython3",
   "version": "3.12.3"
  }
 },
 "nbformat": 4,
 "nbformat_minor": 2
}
