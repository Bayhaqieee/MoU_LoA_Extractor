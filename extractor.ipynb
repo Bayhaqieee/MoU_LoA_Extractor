{
 "cells": [
  {
   "cell_type": "code",
   "execution_count": 3,
   "metadata": {},
   "outputs": [
    {
     "ename": "ModuleNotFoundError",
     "evalue": "No module named 'PyMuPDF'",
     "output_type": "error",
     "traceback": [
      "\u001b[1;31m---------------------------------------------------------------------------\u001b[0m",
      "\u001b[1;31mModuleNotFoundError\u001b[0m                       Traceback (most recent call last)",
      "Input \u001b[1;32mIn [3]\u001b[0m, in \u001b[0;36m<cell line: 1>\u001b[1;34m()\u001b[0m\n\u001b[1;32m----> 1\u001b[0m \u001b[38;5;28;01mimport\u001b[39;00m \u001b[38;5;21;01mPyMuPDF\u001b[39;00m\n\u001b[0;32m      2\u001b[0m \u001b[38;5;28;01mimport\u001b[39;00m \u001b[38;5;21;01mspacy\u001b[39;00m\n\u001b[0;32m      3\u001b[0m \u001b[38;5;28;01mimport\u001b[39;00m \u001b[38;5;21;01mre\u001b[39;00m\n",
      "\u001b[1;31mModuleNotFoundError\u001b[0m: No module named 'PyMuPDF'"
     ]
    }
   ],
   "source": [
    "import PyMuPDF\n",
    "import spacy\n",
    "import re\n",
    "from datetime import datetime"
   ]
  },
  {
   "cell_type": "code",
   "execution_count": null,
   "metadata": {},
   "outputs": [],
   "source": [
    "# Load NLP model\n",
    "nlp = spacy.load('en_core_web_sm')"
   ]
  },
  {
   "cell_type": "code",
   "execution_count": null,
   "metadata": {},
   "outputs": [],
   "source": [
    "def extract_text_from_pdf(file_path):\n",
    "    doc = fitz.open(file_path)\n",
    "    text = \"\"\n",
    "    for page_num in range(len(doc)):\n",
    "        page = doc.load_page(page_num)\n",
    "        text += page.get_text()\n",
    "    return text"
   ]
  },
  {
   "cell_type": "code",
   "execution_count": null,
   "metadata": {},
   "outputs": [],
   "source": [
    "def extract_date(text):\n",
    "    # Regex patterns to find dates\n",
    "    date_pattern_english = r\"On this date ([\\w\\s,]+), we the undersigned below:\"\n",
    "    date_pattern_indonesian = r\"Pada hari ini tanggal ([\\w\\s,]+), pihak-pihak yang bertanda tangan di bawah ini:\"\n",
    "\n",
    "    # Search for dates in the first and last page\n",
    "    match_english = re.search(date_pattern_english, text)\n",
    "    match_indonesian = re.search(date_pattern_indonesian, text)\n",
    "\n",
    "    date = None\n",
    "    if match_english:\n",
    "        date = match_english.group(1)\n",
    "    elif match_indonesian:\n",
    "        date = match_indonesian.group(1)\n",
    "    \n",
    "    return date"
   ]
  },
  {
   "cell_type": "code",
   "execution_count": null,
   "metadata": {},
   "outputs": [],
   "source": [
    "def extract_letter_number(text):\n",
    "    # Regex patterns to find the letter number\n",
    "    letter_number_pattern_english = r\"Number:\\s*([\\w\\-\\/]+)\"\n",
    "    letter_number_pattern_indonesian = r\"Nomor:\\s*([\\w\\-\\/]+)\"\n",
    "\n",
    "    # Search for letter number in the text\n",
    "    match_english = re.search(letter_number_pattern_english, text)\n",
    "    match_indonesian = re.search(letter_number_pattern_indonesian, text)\n",
    "\n",
    "    letter_number = None\n",
    "    if match_english:\n",
    "        letter_number = match_english.group(1)\n",
    "    elif match_indonesian:\n",
    "        letter_number = match_indonesian.group(1)\n",
    "    \n",
    "    return letter_number"
   ]
  },
  {
   "cell_type": "code",
   "execution_count": null,
   "metadata": {},
   "outputs": [],
   "source": [
    "def extract_person_in_charge(text):\n",
    "    # Regex patterns to find first party details\n",
    "    first_party_pattern_english = r\"(?P<company_name>[\\w\\s]+), a (?P<company_desc>[\\w\\s]+), which is located at (?P<address>[\\w\\s,]+) represented by (?P<pic>[\\w\\s]+) as (?P<pic_position>[\\w\\s]+) and therefore authorized to act for and on behalf of (?P=company_name), hereinafter referred to as the FIRST PARTY\"\n",
    "    first_party_pattern_indonesian = r\"(?P<company_name>[\\w\\s]+), sebuah (?P<company_desc>[\\w\\s]+), beralamat (?P<address>[\\w\\s,]+), dalam hal ini diwakili oleh (?P<pic>[\\w\\s]+), Jabatan sebagai (?P<pic_position>[\\w\\s]+) yang bertindak dalam jabatannya untuk dan atas nama (?P=company_name), untuk selanjutnya disebut sebagai PIHAK PERTAMA\"\n",
    "    \n",
    "    # Regex patterns to find second party details (speakers)\n",
    "    second_party_speaker_pattern_english = r\"(?P<name>[\\w\\s]+), who is located in (?P<address>[\\w\\s,]+), hereinafter referred to as the SECOND PARTY.\"\n",
    "    second_party_speaker_pattern_indonesian = r\"(?P<name>[\\w\\s]+), yang berkedudukan di (?P<address>[\\w\\s,]+), untuk selanjutnya disebut sebagai PIHAK KEDUA.\"\n",
    "    \n",
    "    # Regex patterns to find second party details (partners)\n",
    "    second_party_partner_pattern_english = r\"(?P<company_name>[\\w\\s]+), a (?P<company_desc>[\\w\\s]+) established and existing with having domicile in (?P<address>[\\w\\s,]+), in this matter represented by (?P<pic>[\\w\\s]+), in this matter acting in her capacity as (?P<pic_position>[\\w\\s]+), hereinafter referred to as the SECOND PARTY\"\n",
    "    second_party_partner_pattern_indonesian = r\"(?P<company_name>[\\w\\s]+), suatu (?P<company_desc>[\\w\\s]+) berkedudukan di (?P<address>[\\w\\s,]+), dalam hal ini diwakili oleh (?P<pic>[\\w\\s]+), yang dalam hal ini bertindak dalam kapasitasnya sebagai Kuasa (?P<pic_position>[\\w\\s]+), untuk selanjutnya disebut sebagai PIHAK KEDUA.\"\n",
    "\n",
    "    first_party = []\n",
    "    second_party = []\n",
    "\n",
    "    match_first_party_english = re.search(first_party_pattern_english, text)\n",
    "    match_first_party_indonesian = re.search(first_party_pattern_indonesian, text)\n",
    "    \n",
    "    match_second_party_speaker_english = re.search(second_party_speaker_pattern_english, text)\n",
    "    match_second_party_speaker_indonesian = re.search(second_party_speaker_pattern_indonesian, text)\n",
    "    \n",
    "    match_second_party_partner_english = re.search(second_party_partner_pattern_english, text)\n",
    "    match_second_party_partner_indonesian = re.search(second_party_partner_pattern_indonesian, text)\n",
    "\n",
    "    if match_first_party_english:\n",
    "        first_party.append(match_first_party_english.groupdict())\n",
    "    if match_first_party_indonesian:\n",
    "        first_party.append(match_first_party_indonesian.groupdict())\n",
    "\n",
    "    if match_second_party_speaker_english:\n",
    "        second_party.append(match_second_party_speaker_english.groupdict())\n",
    "    if match_second_party_speaker_indonesian:\n",
    "        second_party.append(match_second_party_speaker_indonesian.groupdict())\n",
    "    if match_second_party_partner_english:\n",
    "        second_party.append(match_second_party_partner_english.groupdict())\n",
    "    if match_second_party_partner_indonesian:\n",
    "        second_party.append(match_second_party_partner_indonesian.groupdict())\n",
    "\n",
    "    return first_party, second_party"
   ]
  },
  {
   "cell_type": "code",
   "execution_count": null,
   "metadata": {},
   "outputs": [],
   "source": [
    "def extract_stakeholder_data(text):\n",
    "    return stakeholder_data"
   ]
  },
  {
   "cell_type": "code",
   "execution_count": null,
   "metadata": {},
   "outputs": [],
   "source": [
    "def extract_supply_demand(text):\n",
    "    return supply, demand"
   ]
  },
  {
   "cell_type": "code",
   "execution_count": null,
   "metadata": {},
   "outputs": [],
   "source": [
    "def extract_duration(text):\n",
    "    return duration"
   ]
  },
  {
   "cell_type": "code",
   "execution_count": null,
   "metadata": {},
   "outputs": [],
   "source": [
    "def calculate_roi(supply, demand):\n",
    "    return roi"
   ]
  },
  {
   "cell_type": "code",
   "execution_count": null,
   "metadata": {},
   "outputs": [],
   "source": [
    "def process_document(file_path):\n",
    "    text = extract_text_from_pdf(file_path)\n",
    "    \n",
    "    date_of_agreement = extract_date(text)\n",
    "    letter_number = extract_letter_number(text)\n",
    "    first_party, second_party = extract_person_in_charge(text)\n",
    "    stakeholder_data = extract_stakeholder_data(text)\n",
    "    supply, demand = extract_supply_demand(text)\n",
    "    duration = extract_duration(text)\n",
    "    roi = calculate_roi(supply, demand)\n",
    "    \n",
    "    return {\n",
    "        \"Date of Agreement\": date_of_agreement,\n",
    "        \"Letter Number\": letter_number,\n",
    "        \"First Party Person in Charge\": first_party,\n",
    "        \"Second Party Person in Charge\": second_party,\n",
    "        \"Stakeholder Data\": stakeholder_data,\n",
    "        \"Supply\": supply,\n",
    "        \"Demand\": demand,\n",
    "        \"Duration\": duration,\n",
    "        \"ROI\": roi\n",
    "    }"
   ]
  }
 ],
 "metadata": {
  "kernelspec": {
   "display_name": "Python 3",
   "language": "python",
   "name": "python3"
  },
  "language_info": {
   "codemirror_mode": {
    "name": "ipython",
    "version": 3
   },
   "file_extension": ".py",
   "mimetype": "text/x-python",
   "name": "python",
   "nbconvert_exporter": "python",
   "pygments_lexer": "ipython3",
   "version": "3.9.12"
  }
 },
 "nbformat": 4,
 "nbformat_minor": 2
}
